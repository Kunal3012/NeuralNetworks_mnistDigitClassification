{
 "cells": [
  {
   "cell_type": "code",
   "execution_count": 1,
   "id": "3bf06f89",
   "metadata": {
    "_cell_guid": "b1076dfc-b9ad-4769-8c92-a6c4dae69d19",
    "_uuid": "8f2839f25d086af736a60e9eeb907d3b93b6e0e5",
    "execution": {
     "iopub.execute_input": "2024-01-28T06:57:37.364061Z",
     "iopub.status.busy": "2024-01-28T06:57:37.363714Z",
     "iopub.status.idle": "2024-01-28T06:57:47.377722Z",
     "shell.execute_reply": "2024-01-28T06:57:47.376855Z"
    },
    "papermill": {
     "duration": 10.021659,
     "end_time": "2024-01-28T06:57:47.380159",
     "exception": false,
     "start_time": "2024-01-28T06:57:37.358500",
     "status": "completed"
    },
    "tags": []
   },
   "outputs": [],
   "source": [
    "import tensorflow as tf \n",
    "from tensorflow import keras\n",
    "from tensorflow.keras import Sequential\n",
    "from tensorflow.keras.layers import Dense, Flatten\n",
    "import numpy as np # linear algebra\n",
    "import pandas as pd # data processing, CSV file I/O (e.g. pd.read_csv)"
   ]
  },
  {
   "cell_type": "code",
   "execution_count": 2,
   "id": "cb6e01ba",
   "metadata": {
    "execution": {
     "iopub.execute_input": "2024-01-28T06:57:47.388502Z",
     "iopub.status.busy": "2024-01-28T06:57:47.387976Z",
     "iopub.status.idle": "2024-01-28T06:57:48.596984Z",
     "shell.execute_reply": "2024-01-28T06:57:48.596126Z"
    },
    "papermill": {
     "duration": 1.21532,
     "end_time": "2024-01-28T06:57:48.599197",
     "exception": false,
     "start_time": "2024-01-28T06:57:47.383877",
     "status": "completed"
    },
    "tags": []
   },
   "outputs": [
    {
     "name": "stdout",
     "output_type": "stream",
     "text": [
      "Downloading data from https://storage.googleapis.com/tensorflow/tf-keras-datasets/mnist.npz\n",
      "11490434/11490434 [==============================] - 1s 0us/step\n"
     ]
    }
   ],
   "source": [
    "(X_train,y_train),(X_test,y_test)=keras.datasets.mnist.load_data()"
   ]
  },
  {
   "cell_type": "code",
   "execution_count": 3,
   "id": "ff82872e",
   "metadata": {
    "execution": {
     "iopub.execute_input": "2024-01-28T06:57:48.609474Z",
     "iopub.status.busy": "2024-01-28T06:57:48.608960Z",
     "iopub.status.idle": "2024-01-28T06:57:48.615459Z",
     "shell.execute_reply": "2024-01-28T06:57:48.614596Z"
    },
    "papermill": {
     "duration": 0.013639,
     "end_time": "2024-01-28T06:57:48.617417",
     "exception": false,
     "start_time": "2024-01-28T06:57:48.603778",
     "status": "completed"
    },
    "tags": []
   },
   "outputs": [
    {
     "data": {
      "text/plain": [
       "(60000, 28, 28)"
      ]
     },
     "execution_count": 3,
     "metadata": {},
     "output_type": "execute_result"
    }
   ],
   "source": [
    "X_train.shape"
   ]
  },
  {
   "cell_type": "code",
   "execution_count": 4,
   "id": "054991b9",
   "metadata": {
    "execution": {
     "iopub.execute_input": "2024-01-28T06:57:48.627655Z",
     "iopub.status.busy": "2024-01-28T06:57:48.627348Z",
     "iopub.status.idle": "2024-01-28T06:57:48.937465Z",
     "shell.execute_reply": "2024-01-28T06:57:48.936838Z"
    },
    "papermill": {
     "duration": 0.317291,
     "end_time": "2024-01-28T06:57:48.939248",
     "exception": false,
     "start_time": "2024-01-28T06:57:48.621957",
     "status": "completed"
    },
    "tags": []
   },
   "outputs": [
    {
     "data": {
      "image/png": "[encoded data removed]",
      "text/plain": [
       "<Figure size 640x480 with 1 Axes>"
      ]
     },
     "metadata": {},
     "output_type": "display_data"
    },
    {
     "data": {
      "image/png": "[encoded data removed]",
      "text/plain": [
       "<Figure size 640x480 with 1 Axes>"
      ]
     },
     "metadata": {},
     "output_type": "display_data"
    }
   ],
   "source": [
    "import matplotlib.pyplot as plt\n",
    "\n",
    "# X_train is a NumPy array containing images\n",
    "for i in range(2):\n",
    "    plt.imshow(X_train[i])\n",
    "    plt.show()\n"
   ]
  },
  {
   "cell_type": "code",
   "execution_count": 5,
   "id": "06d7e67a",
   "metadata": {
    "execution": {
     "iopub.execute_input": "2024-01-28T06:57:48.950120Z",
     "iopub.status.busy": "2024-01-28T06:57:48.949801Z",
     "iopub.status.idle": "2024-01-28T06:57:49.024272Z",
     "shell.execute_reply": "2024-01-28T06:57:49.023490Z"
    },
    "papermill": {
     "duration": 0.082173,
     "end_time": "2024-01-28T06:57:49.026401",
     "exception": false,
     "start_time": "2024-01-28T06:57:48.944228",
     "status": "completed"
    },
    "tags": []
   },
   "outputs": [],
   "source": [
    "X_train=X_train/255\n",
    "X_test=X_test/255"
   ]
  },
  {
   "cell_type": "code",
   "execution_count": 6,
   "id": "2e151ef6",
   "metadata": {
    "execution": {
     "iopub.execute_input": "2024-01-28T06:57:49.037872Z",
     "iopub.status.busy": "2024-01-28T06:57:49.037019Z",
     "iopub.status.idle": "2024-01-28T06:57:49.047850Z",
     "shell.execute_reply": "2024-01-28T06:57:49.047112Z"
    },
    "papermill": {
     "duration": 0.018565,
     "end_time": "2024-01-28T06:57:49.050019",
     "exception": false,
     "start_time": "2024-01-28T06:57:49.031454",
     "status": "completed"
    },
    "tags": []
   },
   "outputs": [
    {
     "data": {
      "text/plain": [
       "array([[0.        , 0.        , 0.        , 0.        , 0.        ,\n",
       "        0.        , 0.        , 0.        , 0.        , 0.        ,\n",
       "        0.        , 0.        , 0.        , 0.        , 0.        ,\n",
       "        0.        , 0.        , 0.        , 0.        , 0.        ,\n",
       "        0.        , 0.        , 0.        , 0.        , 0.        ,\n",
       "        0.        , 0.        , 0.        ],\n",
       "       [0.        , 0.        , 0.        , 0.        , 0.        ,\n",
       "        0.        , 0.        , 0.        , 0.        , 0.        ,\n",
       "        0.        , 0.        , 0.        , 0.        , 0.        ,\n",
       "        0.        , 0.        , 0.        , 0.        , 0.        ,\n",
       "        0.        , 0.        , 0.        , 0.        , 0.        ,\n",
       "        0.        , 0.        , 0.        ],\n",
       "       [0.        , 0.        , 0.        , 0.        , 0.        ,\n",
       "        0.        , 0.        , 0.        , 0.        , 0.        ,\n",
       "        0.        , 0.        , 0.        , 0.        , 0.        ,\n",
       "        0.        , 0.        , 0.        , 0.        , 0.        ,\n",
       "        0.        , 0.        , 0.        , 0.        , 0.        ,\n",
       "        0.        , 0.        , 0.        ],\n",
       "       [0.        , 0.        , 0.        , 0.        , 0.        ,\n",
       "        0.        , 0.        , 0.        , 0.        , 0.        ,\n",
       "        0.        , 0.        , 0.        , 0.        , 0.        ,\n",
       "        0.        , 0.        , 0.        , 0.        , 0.        ,\n",
       "        0.        , 0.        , 0.        , 0.        , 0.        ,\n",
       "        0.        , 0.        , 0.        ],\n",
       "       [0.        , 0.        , 0.        , 0.        , 0.        ,\n",
       "        0.        , 0.        , 0.        , 0.        , 0.        ,\n",
       "        0.        , 0.        , 0.        , 0.        , 0.        ,\n",
       "        0.2       , 0.62352941, 0.99215686, 0.62352941, 0.19607843,\n",
       "        0.        , 0.        , 0.        , 0.        , 0.        ,\n",
       "        0.        , 0.        , 0.        ],\n",
       "       [0.        , 0.        , 0.        , 0.        , 0.        ,\n",
       "        0.        , 0.        , 0.        , 0.        , 0.        ,\n",
       "        0.        , 0.        , 0.        , 0.        , 0.18823529,\n",
       "        0.93333333, 0.98823529, 0.98823529, 0.98823529, 0.92941176,\n",
       "        0.        , 0.        , 0.        , 0.        , 0.        ,\n",
       "        0.        , 0.        , 0.        ],\n",
       "       [0.        , 0.        , 0.        , 0.        , 0.        ,\n",
       "        0.        , 0.        , 0.        , 0.        , 0.        ,\n",
       "        0.        , 0.        , 0.        , 0.21176471, 0.89019608,\n",
       "        0.99215686, 0.98823529, 0.9372549 , 0.91372549, 0.98823529,\n",
       "        0.22352941, 0.02352941, 0.        , 0.        , 0.        ,\n",
       "        0.        , 0.        , 0.        ],\n",
       "       [0.        , 0.        , 0.        , 0.        , 0.        ,\n",
       "        0.        , 0.        , 0.        , 0.        , 0.        ,\n",
       "        0.        , 0.03921569, 0.23529412, 0.87843137, 0.98823529,\n",
       "        0.99215686, 0.98823529, 0.79215686, 0.32941176, 0.98823529,\n",
       "        0.99215686, 0.47843137, 0.        , 0.        , 0.        ,\n",
       "        0.        , 0.        , 0.        ],\n",
       "       [0.        , 0.        , 0.        , 0.        , 0.        ,\n",
       "        0.        , 0.        , 0.        , 0.        , 0.        ,\n",
       "        0.        , 0.63921569, 0.98823529, 0.98823529, 0.98823529,\n",
       "        0.99215686, 0.98823529, 0.98823529, 0.37647059, 0.74117647,\n",
       "        0.99215686, 0.65490196, 0.        , 0.        , 0.        ,\n",
       "        0.        , 0.        , 0.        ],\n",
       "       [0.        , 0.        , 0.        , 0.        , 0.        ,\n",
       "        0.        , 0.        , 0.        , 0.        , 0.        ,\n",
       "        0.2       , 0.93333333, 0.99215686, 0.99215686, 0.74509804,\n",
       "        0.44705882, 0.99215686, 0.89411765, 0.18431373, 0.30980392,\n",
       "        1.        , 0.65882353, 0.        , 0.        , 0.        ,\n",
       "        0.        , 0.        , 0.        ],\n",
       "       [0.        , 0.        , 0.        , 0.        , 0.        ,\n",
       "        0.        , 0.        , 0.        , 0.        , 0.18823529,\n",
       "        0.93333333, 0.98823529, 0.98823529, 0.70196078, 0.04705882,\n",
       "        0.29411765, 0.4745098 , 0.08235294, 0.        , 0.        ,\n",
       "        0.99215686, 0.95294118, 0.19607843, 0.        , 0.        ,\n",
       "        0.        , 0.        , 0.        ],\n",
       "       [0.        , 0.        , 0.        , 0.        , 0.        ,\n",
       "        0.        , 0.        , 0.        , 0.14901961, 0.64705882,\n",
       "        0.99215686, 0.91372549, 0.81568627, 0.32941176, 0.        ,\n",
       "        0.        , 0.        , 0.        , 0.        , 0.        ,\n",
       "        0.99215686, 0.98823529, 0.64705882, 0.        , 0.        ,\n",
       "        0.        , 0.        , 0.        ],\n",
       "       [0.        , 0.        , 0.        , 0.        , 0.        ,\n",
       "        0.        , 0.        , 0.02745098, 0.69803922, 0.98823529,\n",
       "        0.94117647, 0.27843137, 0.0745098 , 0.10980392, 0.        ,\n",
       "        0.        , 0.        , 0.        , 0.        , 0.        ,\n",
       "        0.99215686, 0.98823529, 0.76470588, 0.        , 0.        ,\n",
       "        0.        , 0.        , 0.        ],\n",
       "       [0.        , 0.        , 0.        , 0.        , 0.        ,\n",
       "        0.        , 0.        , 0.22352941, 0.98823529, 0.98823529,\n",
       "        0.24705882, 0.        , 0.        , 0.        , 0.        ,\n",
       "        0.        , 0.        , 0.        , 0.        , 0.        ,\n",
       "        0.99215686, 0.98823529, 0.76470588, 0.        , 0.        ,\n",
       "        0.        , 0.        , 0.        ],\n",
       "       [0.        , 0.        , 0.        , 0.        , 0.        ,\n",
       "        0.        , 0.        , 0.77647059, 0.99215686, 0.74509804,\n",
       "        0.        , 0.        , 0.        , 0.        , 0.        ,\n",
       "        0.        , 0.        , 0.        , 0.        , 0.        ,\n",
       "        1.        , 0.99215686, 0.76862745, 0.        , 0.        ,\n",
       "        0.        , 0.        , 0.        ],\n",
       "       [0.        , 0.        , 0.        , 0.        , 0.        ,\n",
       "        0.        , 0.29803922, 0.96470588, 0.98823529, 0.43921569,\n",
       "        0.        , 0.        , 0.        , 0.        , 0.        ,\n",
       "        0.        , 0.        , 0.        , 0.        , 0.        ,\n",
       "        0.99215686, 0.98823529, 0.58039216, 0.        , 0.        ,\n",
       "        0.        , 0.        , 0.        ],\n",
       "       [0.        , 0.        , 0.        , 0.        , 0.        ,\n",
       "        0.        , 0.33333333, 0.98823529, 0.90196078, 0.09803922,\n",
       "        0.        , 0.        , 0.        , 0.        , 0.        ,\n",
       "        0.        , 0.        , 0.        , 0.02745098, 0.52941176,\n",
       "        0.99215686, 0.72941176, 0.04705882, 0.        , 0.        ,\n",
       "        0.        , 0.        , 0.        ],\n",
       "       [0.        , 0.        , 0.        , 0.        , 0.        ,\n",
       "        0.        , 0.33333333, 0.98823529, 0.8745098 , 0.        ,\n",
       "        0.        , 0.        , 0.        , 0.        , 0.        ,\n",
       "        0.        , 0.        , 0.02745098, 0.51372549, 0.98823529,\n",
       "        0.88235294, 0.27843137, 0.        , 0.        , 0.        ,\n",
       "        0.        , 0.        , 0.        ],\n",
       "       [0.        , 0.        , 0.        , 0.        , 0.        ,\n",
       "        0.        , 0.33333333, 0.98823529, 0.56862745, 0.        ,\n",
       "        0.        , 0.        , 0.        , 0.        , 0.        ,\n",
       "        0.        , 0.18823529, 0.64705882, 0.98823529, 0.67843137,\n",
       "        0.        , 0.        , 0.        , 0.        , 0.        ,\n",
       "        0.        , 0.        , 0.        ],\n",
       "       [0.        , 0.        , 0.        , 0.        , 0.        ,\n",
       "        0.        , 0.3372549 , 0.99215686, 0.88235294, 0.        ,\n",
       "        0.        , 0.        , 0.        , 0.        , 0.        ,\n",
       "        0.44705882, 0.93333333, 0.99215686, 0.63529412, 0.        ,\n",
       "        0.        , 0.        , 0.        , 0.        , 0.        ,\n",
       "        0.        , 0.        , 0.        ],\n",
       "       [0.        , 0.        , 0.        , 0.        , 0.        ,\n",
       "        0.        , 0.33333333, 0.98823529, 0.97647059, 0.57254902,\n",
       "        0.18823529, 0.11372549, 0.33333333, 0.69803922, 0.88235294,\n",
       "        0.99215686, 0.8745098 , 0.65490196, 0.21960784, 0.        ,\n",
       "        0.        , 0.        , 0.        , 0.        , 0.        ,\n",
       "        0.        , 0.        , 0.        ],\n",
       "       [0.        , 0.        , 0.        , 0.        , 0.        ,\n",
       "        0.        , 0.33333333, 0.98823529, 0.98823529, 0.98823529,\n",
       "        0.89803922, 0.84313725, 0.98823529, 0.98823529, 0.98823529,\n",
       "        0.76862745, 0.50980392, 0.        , 0.        , 0.        ,\n",
       "        0.        , 0.        , 0.        , 0.        , 0.        ,\n",
       "        0.        , 0.        , 0.        ],\n",
       "       [0.        , 0.        , 0.        , 0.        , 0.        ,\n",
       "        0.        , 0.10980392, 0.78039216, 0.98823529, 0.98823529,\n",
       "        0.99215686, 0.98823529, 0.98823529, 0.91372549, 0.56862745,\n",
       "        0.        , 0.        , 0.        , 0.        , 0.        ,\n",
       "        0.        , 0.        , 0.        , 0.        , 0.        ,\n",
       "        0.        , 0.        , 0.        ],\n",
       "       [0.        , 0.        , 0.        , 0.        , 0.        ,\n",
       "        0.        , 0.        , 0.09803922, 0.50196078, 0.98823529,\n",
       "        0.99215686, 0.98823529, 0.55294118, 0.14509804, 0.        ,\n",
       "        0.        , 0.        , 0.        , 0.        , 0.        ,\n",
       "        0.        , 0.        , 0.        , 0.        , 0.        ,\n",
       "        0.        , 0.        , 0.        ],\n",
       "       [0.        , 0.        , 0.        , 0.        , 0.        ,\n",
       "        0.        , 0.        , 0.        , 0.        , 0.        ,\n",
       "        0.        , 0.        , 0.        , 0.        , 0.        ,\n",
       "        0.        , 0.        , 0.        , 0.        , 0.        ,\n",
       "        0.        , 0.        , 0.        , 0.        , 0.        ,\n",
       "        0.        , 0.        , 0.        ],\n",
       "       [0.        , 0.        , 0.        , 0.        , 0.        ,\n",
       "        0.        , 0.        , 0.        , 0.        , 0.        ,\n",
       "        0.        , 0.        , 0.        , 0.        , 0.        ,\n",
       "        0.        , 0.        , 0.        , 0.        , 0.        ,\n",
       "        0.        , 0.        , 0.        , 0.        , 0.        ,\n",
       "        0.        , 0.        , 0.        ],\n",
       "       [0.        , 0.        , 0.        , 0.        , 0.        ,\n",
       "        0.        , 0.        , 0.        , 0.        , 0.        ,\n",
       "        0.        , 0.        , 0.        , 0.        , 0.        ,\n",
       "        0.        , 0.        , 0.        , 0.        , 0.        ,\n",
       "        0.        , 0.        , 0.        , 0.        , 0.        ,\n",
       "        0.        , 0.        , 0.        ],\n",
       "       [0.        , 0.        , 0.        , 0.        , 0.        ,\n",
       "        0.        , 0.        , 0.        , 0.        , 0.        ,\n",
       "        0.        , 0.        , 0.        , 0.        , 0.        ,\n",
       "        0.        , 0.        , 0.        , 0.        , 0.        ,\n",
       "        0.        , 0.        , 0.        , 0.        , 0.        ,\n",
       "        0.        , 0.        , 0.        ]])"
      ]
     },
     "execution_count": 6,
     "metadata": {},
     "output_type": "execute_result"
    }
   ],
   "source": [
    "X_train[1]"
   ]
  },
  {
   "cell_type": "code",
   "execution_count": 7,
   "id": "1b7a9c1b",
   "metadata": {
    "execution": {
     "iopub.execute_input": "2024-01-28T06:57:49.061486Z",
     "iopub.status.busy": "2024-01-28T06:57:49.061204Z",
     "iopub.status.idle": "2024-01-28T06:57:49.224036Z",
     "shell.execute_reply": "2024-01-28T06:57:49.223312Z"
    },
    "papermill": {
     "duration": 0.170939,
     "end_time": "2024-01-28T06:57:49.226111",
     "exception": false,
     "start_time": "2024-01-28T06:57:49.055172",
     "status": "completed"
    },
    "tags": []
   },
   "outputs": [],
   "source": [
    "model = Sequential()\n",
    "\n",
    "model.add(Flatten(input_shape=(28,28)))\n",
    "\n",
    "model.add(Dense(128,activation='relu'))\n",
    "\n",
    "model.add(Dense(64,activation='relu'))\n",
    "\n",
    "model.add(Dense(32,activation='relu'))\n",
    "\n",
    "model.add(Dense(10,activation='softmax'))\n",
    "\n",
    "model.compile(loss='sparse_categorical_crossentropy',optimizer = 'Adam',metrics=['mse', 'accuracy'])"
   ]
  },
  {
   "cell_type": "code",
   "execution_count": 8,
   "id": "70203ad3",
   "metadata": {
    "execution": {
     "iopub.execute_input": "2024-01-28T06:57:49.237728Z",
     "iopub.status.busy": "2024-01-28T06:57:49.237426Z",
     "iopub.status.idle": "2024-01-28T06:57:49.254600Z",
     "shell.execute_reply": "2024-01-28T06:57:49.253617Z"
    },
    "papermill": {
     "duration": 0.029708,
     "end_time": "2024-01-28T06:57:49.261161",
     "exception": false,
     "start_time": "2024-01-28T06:57:49.231453",
     "status": "completed"
    },
    "tags": []
   },
   "outputs": [
    {
     "name": "stdout",
     "output_type": "stream",
     "text": [
      "Model: \"sequential\"\n",
      "_________________________________________________________________\n",
      " Layer (type)                Output Shape              Param #   \n",
      "=================================================================\n",
      " flatten (Flatten)           (None, 784)               0         \n",
      "                                                                 \n",
      " dense (Dense)               (None, 128)               100480    \n",
      "                                                                 \n",
      " dense_1 (Dense)             (None, 64)                8256      \n",
      "                                                                 \n",
      " dense_2 (Dense)             (None, 32)                2080      \n",
      "                                                                 \n",
      " dense_3 (Dense)             (None, 10)                330       \n",
      "                                                                 \n",
      "=================================================================\n",
      "Total params: 111146 (434.16 KB)\n",
      "Trainable params: 111146 (434.16 KB)\n",
      "Non-trainable params: 0 (0.00 Byte)\n",
      "_________________________________________________________________\n"
     ]
    }
   ],
   "source": [
    "model.summary()"
   ]
  },
  {
   "cell_type": "code",
   "execution_count": 9,
   "id": "c7ba729c",
   "metadata": {
    "execution": {
     "iopub.execute_input": "2024-01-28T06:57:49.275167Z",
     "iopub.status.busy": "2024-01-28T06:57:49.274879Z",
     "iopub.status.idle": "2024-01-28T06:59:23.382772Z",
     "shell.execute_reply": "2024-01-28T06:59:23.381798Z"
    },
    "papermill": {
     "duration": 94.117269,
     "end_time": "2024-01-28T06:59:23.384645",
     "exception": false,
     "start_time": "2024-01-28T06:57:49.267376",
     "status": "completed"
    },
    "tags": []
   },
   "outputs": [
    {
     "name": "stdout",
     "output_type": "stream",
     "text": [
      "Epoch 1/24\n",
      "1594/1594 [==============================] - 5s 3ms/step - loss: 0.2716 - mse: 27.3607 - accuracy: 0.9190 - val_loss: 0.1221 - val_mse: 27.4975 - val_accuracy: 0.9649\n",
      "Epoch 2/24\n",
      "1594/1594 [==============================] - 4s 2ms/step - loss: 0.1119 - mse: 27.3695 - accuracy: 0.9666 - val_loss: 0.1085 - val_mse: 27.4992 - val_accuracy: 0.9671\n",
      "Epoch 3/24\n",
      "1594/1594 [==============================] - 4s 2ms/step - loss: 0.0775 - mse: 27.3713 - accuracy: 0.9758 - val_loss: 0.0937 - val_mse: 27.5004 - val_accuracy: 0.9722\n",
      "Epoch 4/24\n",
      "1594/1594 [==============================] - 4s 2ms/step - loss: 0.0604 - mse: 27.3722 - accuracy: 0.9808 - val_loss: 0.0856 - val_mse: 27.5012 - val_accuracy: 0.9752\n",
      "Epoch 5/24\n",
      "1594/1594 [==============================] - 4s 2ms/step - loss: 0.0488 - mse: 27.3728 - accuracy: 0.9847 - val_loss: 0.0867 - val_mse: 27.5014 - val_accuracy: 0.9763\n",
      "Epoch 6/24\n",
      "1594/1594 [==============================] - 4s 2ms/step - loss: 0.0395 - mse: 27.3732 - accuracy: 0.9872 - val_loss: 0.0968 - val_mse: 27.5020 - val_accuracy: 0.9770\n",
      "Epoch 7/24\n",
      "1594/1594 [==============================] - 4s 2ms/step - loss: 0.0321 - mse: 27.3735 - accuracy: 0.9896 - val_loss: 0.0992 - val_mse: 27.5019 - val_accuracy: 0.9763\n",
      "Epoch 8/24\n",
      "1594/1594 [==============================] - 4s 2ms/step - loss: 0.0297 - mse: 27.3738 - accuracy: 0.9905 - val_loss: 0.1052 - val_mse: 27.5018 - val_accuracy: 0.9736\n",
      "Epoch 9/24\n",
      "1594/1594 [==============================] - 4s 3ms/step - loss: 0.0246 - mse: 27.3740 - accuracy: 0.9920 - val_loss: 0.1039 - val_mse: 27.5021 - val_accuracy: 0.9739\n",
      "Epoch 10/24\n",
      "1594/1594 [==============================] - 4s 2ms/step - loss: 0.0208 - mse: 27.3741 - accuracy: 0.9932 - val_loss: 0.1033 - val_mse: 27.5025 - val_accuracy: 0.9786\n",
      "Epoch 11/24\n",
      "1594/1594 [==============================] - 4s 2ms/step - loss: 0.0219 - mse: 27.3742 - accuracy: 0.9925 - val_loss: 0.0947 - val_mse: 27.5024 - val_accuracy: 0.9772\n",
      "Epoch 12/24\n",
      "1594/1594 [==============================] - 4s 2ms/step - loss: 0.0199 - mse: 27.3743 - accuracy: 0.9934 - val_loss: 0.1073 - val_mse: 27.5027 - val_accuracy: 0.9786\n",
      "Epoch 13/24\n",
      "1594/1594 [==============================] - 4s 2ms/step - loss: 0.0171 - mse: 27.3744 - accuracy: 0.9936 - val_loss: 0.1169 - val_mse: 27.5026 - val_accuracy: 0.9772\n",
      "Epoch 14/24\n",
      "1594/1594 [==============================] - 4s 2ms/step - loss: 0.0165 - mse: 27.3745 - accuracy: 0.9945 - val_loss: 0.0948 - val_mse: 27.5027 - val_accuracy: 0.9802\n",
      "Epoch 15/24\n",
      "1594/1594 [==============================] - 4s 3ms/step - loss: 0.0129 - mse: 27.3746 - accuracy: 0.9957 - val_loss: 0.1248 - val_mse: 27.5027 - val_accuracy: 0.9760\n",
      "Epoch 16/24\n",
      "1594/1594 [==============================] - 4s 3ms/step - loss: 0.0150 - mse: 27.3746 - accuracy: 0.9949 - val_loss: 0.0971 - val_mse: 27.5028 - val_accuracy: 0.9810\n",
      "Epoch 17/24\n",
      "1594/1594 [==============================] - 4s 3ms/step - loss: 0.0126 - mse: 27.3746 - accuracy: 0.9959 - val_loss: 0.1418 - val_mse: 27.5027 - val_accuracy: 0.9747\n",
      "Epoch 18/24\n",
      "1594/1594 [==============================] - 4s 2ms/step - loss: 0.0138 - mse: 27.3747 - accuracy: 0.9956 - val_loss: 0.1258 - val_mse: 27.5027 - val_accuracy: 0.9762\n",
      "Epoch 19/24\n",
      "1594/1594 [==============================] - 4s 2ms/step - loss: 0.0125 - mse: 27.3748 - accuracy: 0.9965 - val_loss: 0.1160 - val_mse: 27.5029 - val_accuracy: 0.9794\n",
      "Epoch 20/24\n",
      "1594/1594 [==============================] - 4s 2ms/step - loss: 0.0102 - mse: 27.3747 - accuracy: 0.9967 - val_loss: 0.1273 - val_mse: 27.5029 - val_accuracy: 0.9790\n",
      "Epoch 21/24\n",
      "1594/1594 [==============================] - 4s 2ms/step - loss: 0.0117 - mse: 27.3748 - accuracy: 0.9962 - val_loss: 0.1200 - val_mse: 27.5030 - val_accuracy: 0.9793\n",
      "Epoch 22/24\n",
      "1594/1594 [==============================] - 4s 2ms/step - loss: 0.0117 - mse: 27.3748 - accuracy: 0.9964 - val_loss: 0.1327 - val_mse: 27.5030 - val_accuracy: 0.9777\n",
      "Epoch 23/24\n",
      "1594/1594 [==============================] - 4s 2ms/step - loss: 0.0110 - mse: 27.3748 - accuracy: 0.9968 - val_loss: 0.1283 - val_mse: 27.5029 - val_accuracy: 0.9774\n",
      "Epoch 24/24\n",
      "1594/1594 [==============================] - 4s 2ms/step - loss: 0.0085 - mse: 27.3749 - accuracy: 0.9974 - val_loss: 0.1168 - val_mse: 27.5030 - val_accuracy: 0.9790\n"
     ]
    }
   ],
   "source": [
    "history = model.fit(X_train, y_train, epochs=24, validation_split=0.15)\n"
   ]
  },
  {
   "cell_type": "code",
   "execution_count": 10,
   "id": "d1bc201c",
   "metadata": {
    "execution": {
     "iopub.execute_input": "2024-01-28T06:59:23.591188Z",
     "iopub.status.busy": "2024-01-28T06:59:23.590781Z",
     "iopub.status.idle": "2024-01-28T06:59:24.177000Z",
     "shell.execute_reply": "2024-01-28T06:59:24.176224Z"
    },
    "papermill": {
     "duration": 0.692956,
     "end_time": "2024-01-28T06:59:24.178948",
     "exception": false,
     "start_time": "2024-01-28T06:59:23.485992",
     "status": "completed"
    },
    "tags": []
   },
   "outputs": [
    {
     "name": "stdout",
     "output_type": "stream",
     "text": [
      "313/313 [==============================] - 0s 1ms/step\n"
     ]
    }
   ],
   "source": [
    "y_pred=model.predict(X_test).argmax(axis=1)"
   ]
  },
  {
   "cell_type": "code",
   "execution_count": 11,
   "id": "0de3a64c",
   "metadata": {
    "execution": {
     "iopub.execute_input": "2024-01-28T06:59:24.385804Z",
     "iopub.status.busy": "2024-01-28T06:59:24.385499Z",
     "iopub.status.idle": "2024-01-28T06:59:24.391013Z",
     "shell.execute_reply": "2024-01-28T06:59:24.390241Z"
    },
    "papermill": {
     "duration": 0.111402,
     "end_time": "2024-01-28T06:59:24.392716",
     "exception": false,
     "start_time": "2024-01-28T06:59:24.281314",
     "status": "completed"
    },
    "tags": []
   },
   "outputs": [
    {
     "name": "stdout",
     "output_type": "stream",
     "text": [
      "[7 2 1 0 4 1 4 9 5 9 0 6 9 0 1 5 9 7 3 4 9 6 6 5 4 0 7 4 0 1]\n",
      "[7 2 1 0 4 1 4 9 6 9 0 6 9 0 1 5 9 7 3 4 9 6 6 5 4 0 7 4 0 1]\n"
     ]
    }
   ],
   "source": [
    "print(y_test[:30])\n",
    "print(y_pred[:30])"
   ]
  },
  {
   "cell_type": "code",
   "execution_count": 12,
   "id": "9b16c6e5",
   "metadata": {
    "execution": {
     "iopub.execute_input": "2024-01-28T06:59:24.600440Z",
     "iopub.status.busy": "2024-01-28T06:59:24.600116Z",
     "iopub.status.idle": "2024-01-28T06:59:25.087557Z",
     "shell.execute_reply": "2024-01-28T06:59:25.086667Z"
    },
    "papermill": {
     "duration": 0.595276,
     "end_time": "2024-01-28T06:59:25.089334",
     "exception": false,
     "start_time": "2024-01-28T06:59:24.494058",
     "status": "completed"
    },
    "tags": []
   },
   "outputs": [
    {
     "name": "stdout",
     "output_type": "stream",
     "text": [
      "313/313 [==============================] - 0s 1ms/step - loss: 0.1164 - mse: 27.3394 - accuracy: 0.9800\n",
      "Test Loss: 0.1164\n",
      "Test Mean Squared Error: 27.3394\n",
      "Test Accuracy: 98.00%\n"
     ]
    }
   ],
   "source": [
    "# Evaluate the model on the test set\n",
    "test_loss, test_mse, test_accuracy = model.evaluate(X_test, y_test)\n",
    "\n",
    "# Print the evaluation results\n",
    "print(f'Test Loss: {test_loss:.4f}')\n",
    "print(f'Test Mean Squared Error: {test_mse:.4f}')\n",
    "print(f'Test Accuracy: {test_accuracy * 100:.2f}%')\n"
   ]
  },
  {
   "cell_type": "code",
   "execution_count": 13,
   "id": "5f5a5590",
   "metadata": {
    "execution": {
     "iopub.execute_input": "2024-01-28T06:59:25.296805Z",
     "iopub.status.busy": "2024-01-28T06:59:25.296010Z",
     "iopub.status.idle": "2024-01-28T06:59:25.711364Z",
     "shell.execute_reply": "2024-01-28T06:59:25.710517Z"
    },
    "papermill": {
     "duration": 0.520283,
     "end_time": "2024-01-28T06:59:25.713149",
     "exception": false,
     "start_time": "2024-01-28T06:59:25.192866",
     "status": "completed"
    },
    "tags": []
   },
   "outputs": [
    {
     "data": {
      "image/png": "[encoded data removed]",
      "text/plain": [
       "<Figure size 1200x400 with 2 Axes>"
      ]
     },
     "metadata": {},
     "output_type": "display_data"
    }
   ],
   "source": [
    "import matplotlib.pyplot as plt\n",
    "\n",
    "# Create subplots\n",
    "fig, axs = plt.subplots(1, 2, figsize=(12, 4))\n",
    "\n",
    "# Plotting the training loss\n",
    "axs[0].plot(history.history['loss'], label='Training Loss')\n",
    "\n",
    "# Plotting the validation loss\n",
    "axs[0].plot(history.history['val_loss'], label='Validation Loss')\n",
    "\n",
    "# Adding labels and title for loss plot\n",
    "axs[0].set_xlabel('Epochs')\n",
    "axs[0].set_ylabel('Loss')\n",
    "axs[0].set_title('Training and Validation Loss over Epochs')\n",
    "axs[0].legend()\n",
    "\n",
    "# Plotting the training accuracy\n",
    "axs[1].plot(history.history['accuracy'], label='Training Accuracy')\n",
    "\n",
    "# Plotting the validation accuracy\n",
    "axs[1].plot(history.history['val_accuracy'], label='Validation Accuracy')\n",
    "\n",
    "# Adding labels and title for accuracy plot\n",
    "axs[1].set_xlabel('Epochs')\n",
    "axs[1].set_ylabel('Accuracy')\n",
    "axs[1].set_title('Training and Validation Accuracy over Epochs')\n",
    "axs[1].legend()\n",
    "\n",
    "# Adjust layout for better appearance\n",
    "plt.tight_layout()\n",
    "\n",
    "# Display the plot\n",
    "plt.show()\n"
   ]
  },
  {
   "cell_type": "code",
   "execution_count": 14,
   "id": "ae9047ae",
   "metadata": {
    "execution": {
     "iopub.execute_input": "2024-01-28T06:59:25.922412Z",
     "iopub.status.busy": "2024-01-28T06:59:25.922092Z",
     "iopub.status.idle": "2024-01-28T06:59:26.127350Z",
     "shell.execute_reply": "2024-01-28T06:59:26.126357Z"
    },
    "papermill": {
     "duration": 0.3115,
     "end_time": "2024-01-28T06:59:26.129151",
     "exception": false,
     "start_time": "2024-01-28T06:59:25.817651",
     "status": "completed"
    },
    "tags": []
   },
   "outputs": [
    {
     "data": {
      "image/png": "[encoded data removed]",
      "text/plain": [
       "<Figure size 640x480 with 1 Axes>"
      ]
     },
     "metadata": {},
     "output_type": "display_data"
    },
    {
     "name": "stdout",
     "output_type": "stream",
     "text": [
      "1/1 [==============================] - 0s 16ms/step\n",
      "The digit in image is: 2\n"
     ]
    }
   ],
   "source": [
    "import matplotlib.pyplot as plt\n",
    "\n",
    "plt.imshow(X_test[1])\n",
    "plt.show()\n",
    "\n",
    "print(\"The digit in image is:\",model.predict(X_test[1].reshape(1,28,28)).argmax(axis=1)[0])"
   ]
  },
  {
   "cell_type": "code",
   "execution_count": null,
   "id": "ffa71f3a",
   "metadata": {
    "papermill": {
     "duration": 0.104942,
     "end_time": "2024-01-28T06:59:26.337724",
     "exception": false,
     "start_time": "2024-01-28T06:59:26.232782",
     "status": "completed"
    },
    "tags": []
   },
   "outputs": [],
   "source": []
  }
 ],
 "metadata": {
  "kaggle": {
   "accelerator": "none",
   "dataSources": [],
   "dockerImageVersionId": 30635,
   "isGpuEnabled": false,
   "isInternetEnabled": true,
   "language": "python",
   "sourceType": "notebook"
  },
  "kernelspec": {
   "display_name": "Python 3",
   "language": "python",
   "name": "python3"
  },
  "language_info": {
   "codemirror_mode": {
    "name": "ipython",
    "version": 3
   },
   "file_extension": ".py",
   "mimetype": "text/x-python",
   "name": "python",
   "nbconvert_exporter": "python",
   "pygments_lexer": "ipython3",
   "version": "3.10.12"
  },
  "papermill": {
   "default_parameters": {},
   "duration": 112.787968,
   "end_time": "2024-01-28T06:59:27.760740",
   "environment_variables": {},
   "exception": null,
   "input_path": "__notebook__.ipynb",
   "output_path": "__notebook__.ipynb",
   "parameters": {},
   "start_time": "2024-01-28T06:57:34.972772",
   "version": "2.4.0"
  }
 },
 "nbformat": 4,
 "nbformat_minor": 5
}
